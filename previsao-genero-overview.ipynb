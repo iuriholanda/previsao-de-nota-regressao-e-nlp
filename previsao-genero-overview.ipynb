{
 "cells": [
  {
   "cell_type": "code",
   "execution_count": 1,
   "id": "0997de9c",
   "metadata": {},
   "outputs": [],
   "source": [
    "import pandas as pd\n",
    "import numpy as np\n",
    "import matplotlib.pyplot as plt\n",
    "import re\n",
    "\n",
    "from nltk.corpus import stopwords\n",
    "from nltk.tokenize import word_tokenize\n",
    "from nltk.stem import WordNetLemmatizer\n",
    "from gensim.models import Word2Vec\n",
    "from sklearn.model_selection import train_test_split\n",
    "from sklearn.metrics import accuracy_score, precision_recall_fscore_support\n",
    "\n",
    "\n",
    "import torch\n",
    "import torch.nn as nn\n",
    "import torch.optim as optim\n",
    "from torch.utils.data import TensorDataset, DataLoader\n"
   ]
  },
  {
   "cell_type": "code",
   "execution_count": 3,
   "id": "73f588ef",
   "metadata": {},
   "outputs": [
    {
     "data": {
      "text/html": [
       "<div>\n",
       "<style scoped>\n",
       "    .dataframe tbody tr th:only-of-type {\n",
       "        vertical-align: middle;\n",
       "    }\n",
       "\n",
       "    .dataframe tbody tr th {\n",
       "        vertical-align: top;\n",
       "    }\n",
       "\n",
       "    .dataframe thead th {\n",
       "        text-align: right;\n",
       "    }\n",
       "</style>\n",
       "<table border=\"1\" class=\"dataframe\">\n",
       "  <thead>\n",
       "    <tr style=\"text-align: right;\">\n",
       "      <th></th>\n",
       "      <th>Series_Title</th>\n",
       "      <th>Released_Year</th>\n",
       "      <th>Runtime</th>\n",
       "      <th>IMDB_Rating</th>\n",
       "      <th>Overview</th>\n",
       "      <th>Meta_score</th>\n",
       "      <th>Director</th>\n",
       "      <th>Star1</th>\n",
       "      <th>Star2</th>\n",
       "      <th>Star3</th>\n",
       "      <th>...</th>\n",
       "      <th>Romance</th>\n",
       "      <th>Sci-Fi</th>\n",
       "      <th>Sport</th>\n",
       "      <th>Thriller</th>\n",
       "      <th>War</th>\n",
       "      <th>Western</th>\n",
       "      <th>Certificate_Livre</th>\n",
       "      <th>Certificate_Nao classificado</th>\n",
       "      <th>Certificate_Orientacao parental recomendada</th>\n",
       "      <th>Soma_notas</th>\n",
       "    </tr>\n",
       "  </thead>\n",
       "  <tbody>\n",
       "    <tr>\n",
       "      <th>0</th>\n",
       "      <td>The Godfather</td>\n",
       "      <td>1972</td>\n",
       "      <td>175.0</td>\n",
       "      <td>9.2</td>\n",
       "      <td>An organized crime dynasty's aging patriarch t...</td>\n",
       "      <td>100.0</td>\n",
       "      <td>Francis Ford Coppola</td>\n",
       "      <td>Marlon Brando</td>\n",
       "      <td>Al Pacino</td>\n",
       "      <td>James Caan</td>\n",
       "      <td>...</td>\n",
       "      <td>0</td>\n",
       "      <td>0</td>\n",
       "      <td>0</td>\n",
       "      <td>0</td>\n",
       "      <td>0</td>\n",
       "      <td>0</td>\n",
       "      <td>False</td>\n",
       "      <td>False</td>\n",
       "      <td>False</td>\n",
       "      <td>14907376.4</td>\n",
       "    </tr>\n",
       "    <tr>\n",
       "      <th>1</th>\n",
       "      <td>The Dark Knight</td>\n",
       "      <td>2008</td>\n",
       "      <td>152.0</td>\n",
       "      <td>9.0</td>\n",
       "      <td>When the menace known as the Joker wreaks havo...</td>\n",
       "      <td>84.0</td>\n",
       "      <td>Christopher Nolan</td>\n",
       "      <td>Christian Bale</td>\n",
       "      <td>Heath Ledger</td>\n",
       "      <td>Aaron Eckhart</td>\n",
       "      <td>...</td>\n",
       "      <td>0</td>\n",
       "      <td>0</td>\n",
       "      <td>0</td>\n",
       "      <td>0</td>\n",
       "      <td>0</td>\n",
       "      <td>0</td>\n",
       "      <td>False</td>\n",
       "      <td>False</td>\n",
       "      <td>True</td>\n",
       "      <td>20729088.0</td>\n",
       "    </tr>\n",
       "    <tr>\n",
       "      <th>2</th>\n",
       "      <td>The Godfather: Part II</td>\n",
       "      <td>1974</td>\n",
       "      <td>202.0</td>\n",
       "      <td>9.0</td>\n",
       "      <td>The early life and career of Vito Corleone in ...</td>\n",
       "      <td>90.0</td>\n",
       "      <td>Francis Ford Coppola</td>\n",
       "      <td>Al Pacino</td>\n",
       "      <td>Robert De Niro</td>\n",
       "      <td>Robert Duvall</td>\n",
       "      <td>...</td>\n",
       "      <td>0</td>\n",
       "      <td>0</td>\n",
       "      <td>0</td>\n",
       "      <td>0</td>\n",
       "      <td>0</td>\n",
       "      <td>0</td>\n",
       "      <td>False</td>\n",
       "      <td>False</td>\n",
       "      <td>False</td>\n",
       "      <td>10169568.0</td>\n",
       "    </tr>\n",
       "    <tr>\n",
       "      <th>3</th>\n",
       "      <td>12 Angry Men</td>\n",
       "      <td>1957</td>\n",
       "      <td>96.0</td>\n",
       "      <td>9.0</td>\n",
       "      <td>A jury holdout attempts to prevent a miscarria...</td>\n",
       "      <td>96.0</td>\n",
       "      <td>Sidney Lumet</td>\n",
       "      <td>Henry Fonda</td>\n",
       "      <td>Lee J. Cobb</td>\n",
       "      <td>Martin Balsam</td>\n",
       "      <td>...</td>\n",
       "      <td>0</td>\n",
       "      <td>0</td>\n",
       "      <td>0</td>\n",
       "      <td>0</td>\n",
       "      <td>0</td>\n",
       "      <td>0</td>\n",
       "      <td>True</td>\n",
       "      <td>False</td>\n",
       "      <td>False</td>\n",
       "      <td>6208605.0</td>\n",
       "    </tr>\n",
       "    <tr>\n",
       "      <th>4</th>\n",
       "      <td>The Lord of the Rings: The Return of the King</td>\n",
       "      <td>2003</td>\n",
       "      <td>201.0</td>\n",
       "      <td>8.9</td>\n",
       "      <td>Gandalf and Aragorn lead the World of Men agai...</td>\n",
       "      <td>94.0</td>\n",
       "      <td>Peter Jackson</td>\n",
       "      <td>Elijah Wood</td>\n",
       "      <td>Viggo Mortensen</td>\n",
       "      <td>Ian McKellen</td>\n",
       "      <td>...</td>\n",
       "      <td>0</td>\n",
       "      <td>0</td>\n",
       "      <td>0</td>\n",
       "      <td>0</td>\n",
       "      <td>0</td>\n",
       "      <td>0</td>\n",
       "      <td>True</td>\n",
       "      <td>False</td>\n",
       "      <td>False</td>\n",
       "      <td>14620546.2</td>\n",
       "    </tr>\n",
       "  </tbody>\n",
       "</table>\n",
       "<p>5 rows × 40 columns</p>\n",
       "</div>"
      ],
      "text/plain": [
       "                                    Series_Title  Released_Year  Runtime  \\\n",
       "0                                  The Godfather           1972    175.0   \n",
       "1                                The Dark Knight           2008    152.0   \n",
       "2                         The Godfather: Part II           1974    202.0   \n",
       "3                                   12 Angry Men           1957     96.0   \n",
       "4  The Lord of the Rings: The Return of the King           2003    201.0   \n",
       "\n",
       "   IMDB_Rating                                           Overview  Meta_score  \\\n",
       "0          9.2  An organized crime dynasty's aging patriarch t...       100.0   \n",
       "1          9.0  When the menace known as the Joker wreaks havo...        84.0   \n",
       "2          9.0  The early life and career of Vito Corleone in ...        90.0   \n",
       "3          9.0  A jury holdout attempts to prevent a miscarria...        96.0   \n",
       "4          8.9  Gandalf and Aragorn lead the World of Men agai...        94.0   \n",
       "\n",
       "               Director           Star1            Star2          Star3  ...  \\\n",
       "0  Francis Ford Coppola   Marlon Brando        Al Pacino     James Caan  ...   \n",
       "1     Christopher Nolan  Christian Bale     Heath Ledger  Aaron Eckhart  ...   \n",
       "2  Francis Ford Coppola       Al Pacino   Robert De Niro  Robert Duvall  ...   \n",
       "3          Sidney Lumet     Henry Fonda      Lee J. Cobb  Martin Balsam  ...   \n",
       "4         Peter Jackson     Elijah Wood  Viggo Mortensen   Ian McKellen  ...   \n",
       "\n",
       "  Romance  Sci-Fi  Sport  Thriller  War  Western  Certificate_Livre  \\\n",
       "0       0       0      0         0    0        0              False   \n",
       "1       0       0      0         0    0        0              False   \n",
       "2       0       0      0         0    0        0              False   \n",
       "3       0       0      0         0    0        0               True   \n",
       "4       0       0      0         0    0        0               True   \n",
       "\n",
       "   Certificate_Nao classificado  Certificate_Orientacao parental recomendada  \\\n",
       "0                         False                                        False   \n",
       "1                         False                                         True   \n",
       "2                         False                                        False   \n",
       "3                         False                                        False   \n",
       "4                         False                                        False   \n",
       "\n",
       "   Soma_notas  \n",
       "0  14907376.4  \n",
       "1  20729088.0  \n",
       "2  10169568.0  \n",
       "3   6208605.0  \n",
       "4  14620546.2  \n",
       "\n",
       "[5 rows x 40 columns]"
      ]
     },
     "execution_count": 3,
     "metadata": {},
     "output_type": "execute_result"
    }
   ],
   "source": [
    "filmes = pd.read_csv('dados_filmes_tratados.csv')\n",
    "filmes.head()"
   ]
  },
  {
   "cell_type": "code",
   "execution_count": 4,
   "id": "d8724b60",
   "metadata": {},
   "outputs": [],
   "source": [
    "lista_generos = ['Action', 'Adventure', 'Animation', 'Biography', 'Comedy', 'Crime', 'Drama', 'Family', 'Fantasy', 'Film-Noir', 'History', 'Horror', 'Music', 'Musical', 'Mystery', 'Romance', 'Sci-Fi', 'Sport', 'Thriller', 'War', 'Western']\n",
    "generos = filmes[lista_generos] # variavel dependente"
   ]
  },
  {
   "cell_type": "markdown",
   "id": "3bed0a93",
   "metadata": {},
   "source": [
    "#### Pré-processamento dos textos das sinópses."
   ]
  },
  {
   "cell_type": "code",
   "execution_count": 5,
   "id": "85c94da7",
   "metadata": {},
   "outputs": [],
   "source": [
    "stop_words = set(stopwords.words('english')) \n",
    "lemmatizer = WordNetLemmatizer()\n",
    "\n",
    "def preprocessar_texto(texto):\n",
    "    # Letra minúscula\n",
    "    texto = texto.lower()\n",
    "\n",
    "    # Remover números\n",
    "    texto = re.sub(r\"\\d+\", \"\", texto)\n",
    "\n",
    "    # Remover pontuação, mas manter o '\n",
    "    texto = re.sub(r\"[^\\w\\s']\", \"\", texto)\n",
    "\n",
    "    # Tokenizar\n",
    "    tokens = word_tokenize(texto)\n",
    "\n",
    "    # Remover stopwords e aplicar lematização\n",
    "\n",
    "    clean_tokens = []\n",
    "    for word in tokens:\n",
    "        if word not in stop_words and len(word)>2:\n",
    "            palavra_lematizada = lemmatizer.lemmatize(word)\n",
    "            clean_tokens.append(palavra_lematizada)\n",
    "\n",
    "    return \" \".join(clean_tokens)"
   ]
  },
  {
   "cell_type": "code",
   "execution_count": 6,
   "id": "45d96062",
   "metadata": {},
   "outputs": [
    {
     "data": {
      "text/plain": [
       "0    organized crime dynasty aging patriarch transf...\n",
       "1    menace known joker wreaks havoc chaos people g...\n",
       "2    early life career vito corleone new york city ...\n",
       "3    jury holdout attempt prevent miscarriage justi...\n",
       "4    gandalf aragorn lead world men sauron army dra...\n",
       "Name: Overview, dtype: object"
      ]
     },
     "execution_count": 6,
     "metadata": {},
     "output_type": "execute_result"
    }
   ],
   "source": [
    "overview = filmes['Overview'].apply(preprocessar_texto)\n",
    "overview.head() # variavel independente"
   ]
  },
  {
   "cell_type": "markdown",
   "id": "7d984eb7",
   "metadata": {},
   "source": [
    "Instanciando o modelo W2V"
   ]
  },
  {
   "cell_type": "code",
   "execution_count": null,
   "id": "f8e0f51d",
   "metadata": {},
   "outputs": [],
   "source": [
    "overview_tokenizado = filmes['Overview'].str.split()\n",
    "w2v_modelo = Word2Vec(sentences=overview_tokenizado, vector_size=100, window=6, min_count=2)"
   ]
  },
  {
   "cell_type": "markdown",
   "id": "bcc4f678",
   "metadata": {},
   "source": [
    "# Classificação com MLP(Multilayer Perceptron) e Word2Vec "
   ]
  },
  {
   "cell_type": "markdown",
   "id": "fa98c789",
   "metadata": {},
   "source": [
    "Definindo MLP com 2 camadas ocultas, 192 neurônios ocultos e função de ativação ReLU."
   ]
  },
  {
   "cell_type": "code",
   "execution_count": 17,
   "id": "62e5ce3f",
   "metadata": {},
   "outputs": [],
   "source": [
    "class MLP(nn.Module):\n",
    "    def __init__(self, tam_entradas, tam_saidas):\n",
    "        super(MLP, self).__init__()\n",
    "        self.fc1 = nn.Linear(tam_entradas, 128)\n",
    "        self.relu = nn.ReLU()\n",
    "        self.fc2 = nn.Linear(128, 64)\n",
    "        self.out = nn.Linear(64, tam_saidas)\n",
    "        self.sigmoid = nn.Sigmoid()\n",
    "\n",
    "    def forward(self, x):\n",
    "        x = self.fc1(x)\n",
    "        x = self.relu(x)\n",
    "        x = self.fc2(x)\n",
    "        x = self.relu(x)\n",
    "        x = self.out(x) \n",
    "        x = self.sigmoid(x)\n",
    "        return x"
   ]
  },
  {
   "cell_type": "markdown",
   "id": "06430542",
   "metadata": {},
   "source": [
    "O Word2Vec faz a vetorização de cada palavra presente, de modo que cada sinópse será uma vetor de palavras(que também são vetores). Por isso, para realizar uma análise inicial, vou retirar a média das palavras presentes em cada sinópse de filme e alimenta-la ao modelo, de modo que teremos um sentigo geral(gist), do texto, que pode ser capturado pela MLP.  "
   ]
  },
  {
   "cell_type": "code",
   "execution_count": null,
   "id": "9e6f863e",
   "metadata": {},
   "outputs": [],
   "source": [
    "def media_vetores_sinopse(lista_token, model):\n",
    "    vetores = []\n",
    "    for palavra in lista_token:\n",
    "        if palavra in model.wv:\n",
    "            vetores.append(model.wv[palavra])\n",
    "    if len(vetores) == 0:\n",
    "        return np.zeros(model.vector_size)\n",
    "    \n",
    "    return np.mean(vetores, axis=0)\n",
    "\n",
    "overview_w2v = []\n",
    "for lista_token in overview_tokenizado:\n",
    "    overview_w2v.append(media_vetores_sinopse(lista_token, w2v_modelo))\n",
    "\n",
    "X_treino, X_teste, y_treino, y_teste = train_test_split(overview_w2v, generos, test_size=0.3, random_state=0)\n",
    "\n",
    "X_treino_tensor = torch.tensor(X_treino, dtype=torch.float32) # transformando em tensores\n",
    "X_teste_tensor = torch.tensor(X_teste, dtype=torch.float32)\n",
    "\n",
    "y_treino_tensor = torch.tensor(y_treino.to_numpy(), dtype=torch.float32)\n",
    "y_teste_tensor = torch.tensor(y_teste.to_numpy(), dtype=torch.float32)\n"
   ]
  },
  {
   "cell_type": "markdown",
   "id": "5b76fe06",
   "metadata": {},
   "source": [
    "#### Treinamento"
   ]
  },
  {
   "cell_type": "code",
   "execution_count": 20,
   "id": "e03825bd",
   "metadata": {},
   "outputs": [],
   "source": [
    "tam_entradas = X_treino_tensor.shape[1] # tamanho da camada de entrada(tamanho do vetor w2v)\n",
    "tam_saidas = y_treino_tensor.shape[1]  # tamanho da camada de saida(quantidade de generos possíveis)\n",
    "\n",
    "modelo = MLP(tam_entradas, tam_saidas)\n",
    "optimizer = optim.Adam(modelo.parameters(), lr=0.001)\n",
    "loss_fn = nn.BCEWithLogitsLoss()\n",
    "batch_size = 32\n",
    "epochs = 100\n",
    "\n",
    "treino_dataset = TensorDataset(X_treino_tensor, y_treino_tensor)\n",
    "treino_loader = DataLoader(dataset=treino_dataset, batch_size=batch_size, shuffle=True)\n",
    "\n",
    "teste_dataset = TensorDataset(X_teste_tensor, y_teste_tensor)\n",
    "teste_loader = DataLoader(dataset=teste_dataset, batch_size=batch_size, shuffle=False)\n",
    "\n",
    "\n",
    "custo_epocas = []\n",
    "modelo.train()\n",
    "for _ in range(epochs):\n",
    "    custo_total_epoca = 0\n",
    "\n",
    "    for batch_X, batch_y in treino_loader:\n",
    "        outputs = modelo(batch_X)\n",
    "        loss = loss_fn(outputs, batch_y)\n",
    "            \n",
    "        optimizer.zero_grad()   \n",
    "        loss.backward()        \n",
    "        optimizer.step()        \n",
    "\n",
    "        custo_total_epoca += loss.item()\n",
    "    custo_epocas.append(custo_total_epoca/len(treino_loader))\n",
    "modelo.eval()\n",
    "\n",
    "all_preds = []\n",
    "all_labels = []\n",
    "\n",
    "\n",
    "with torch.no_grad():\n",
    "    for batch_X, batch_y in teste_loader:\n",
    "        outputs = modelo(batch_X)\n",
    "        predictions = (outputs > 0.5).float()\n",
    "\n",
    "        all_preds.append(predictions.cpu().numpy())\n",
    "        all_labels.append(batch_y.cpu().numpy())\n",
    "\n",
    "\n",
    "all_preds = np.concatenate(all_preds, axis=0)\n",
    "all_labels = np.concatenate(all_labels, axis=0)"
   ]
  },
  {
   "cell_type": "markdown",
   "id": "f479f87e",
   "metadata": {},
   "source": [
    "#### Resultados"
   ]
  },
  {
   "cell_type": "code",
   "execution_count": 31,
   "id": "e441cda1",
   "metadata": {},
   "outputs": [
    {
     "data": {
      "image/png": "[encoded data removed]",
      "text/plain": [
       "<Figure size 640x480 with 1 Axes>"
      ]
     },
     "metadata": {},
     "output_type": "display_data"
    }
   ],
   "source": [
    "plt.plot(range(epochs), custo_epocas)\n",
    "plt.title('Função custo ao longo das épocas')\n",
    "plt.ylabel('Função custo')\n",
    "plt.xlabel('Epoca')\n",
    "plt.show()"
   ]
  },
  {
   "cell_type": "code",
   "execution_count": 32,
   "id": "8e8ede15",
   "metadata": {},
   "outputs": [
    {
     "name": "stdout",
     "output_type": "stream",
     "text": [
      "Precisão: 0.7133333333333334\n",
      "Recall: 0.3205555555555556\n",
      "F1-Score: 0.4266666666666667\n"
     ]
    }
   ],
   "source": [
    "# Métricas mais detalhadas: Precisão, Recall e F1-Score\n",
    "precision, recall, f1, _ = precision_recall_fscore_support(all_labels, all_preds, average='samples', zero_division=0)\n",
    "\n",
    "print(f'Precisão: {precision}')\n",
    "print(f'Recall: {recall}')\n",
    "print(f'F1-Score: {f1}')"
   ]
  },
  {
   "cell_type": "code",
   "execution_count": 33,
   "id": "2a7ef7cd",
   "metadata": {},
   "outputs": [
    {
     "name": "stdout",
     "output_type": "stream",
     "text": [
      "Acurácia de gêneros previstos(generos corretos/total de generos): 0.8984126984126984\n"
     ]
    }
   ],
   "source": [
    "labels_flat = all_labels.flatten()\n",
    "preds_flat = all_preds.flatten()\n",
    "\n",
    "acuracia_por_rotulo = accuracy_score(labels_flat, preds_flat)\n",
    "\n",
    "print(f'Acurácia de gêneros previstos(generos corretos/total de generos): {acuracia_por_rotulo}')"
   ]
  },
  {
   "cell_type": "markdown",
   "id": "f7932d30",
   "metadata": {},
   "source": [
    "# Considerações finais "
   ]
  },
  {
   "cell_type": "markdown",
   "id": "900546cd",
   "metadata": {},
   "source": [
    "O modelo ainda não tem tanta capacidade de previsão assim, apesar de uma alta acurácia, apresentou um f1-score relativamente baixo, que é uma métrica muito mais importante no caso de classes(gêneros de filme) desbalanceadas. \n",
    "\n",
    "Ainda sim, os resultados mostram que é sim possível realizar a previsão de gêneros de filme baseando-se apenas nas sinópses dos filmes. Poderíamos obter resultados muito mais significativos se a distribuição geral de gêneros fosse mais balanceadas, já que, no nosso dataset, existem muito mais filmes de drama(700+) do que filmes de outras categorias. \n",
    "\n",
    "Em geral o modelo obteve uma performance boa dentro das suas limitações, obtendo uma acurácia de gêneros de aproximadamente 90%(previu 90% de todos os gêneros corretamente), precisão de 71%, revocação de 32% e f1-score de 0,43. "
   ]
  }
 ],
 "metadata": {
  "kernelspec": {
   "display_name": "env",
   "language": "python",
   "name": "python3"
  },
  "language_info": {
   "codemirror_mode": {
    "name": "ipython",
    "version": 3
   },
   "file_extension": ".py",
   "mimetype": "text/x-python",
   "name": "python",
   "nbconvert_exporter": "python",
   "pygments_lexer": "ipython3",
   "version": "3.11.9"
  }
 },
 "nbformat": 4,
 "nbformat_minor": 5
}
